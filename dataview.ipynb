{
 "cells": [
  {
   "cell_type": "code",
   "execution_count": 106,
   "metadata": {
    "collapsed": true,
    "pycharm": {
     "is_executing": false
    }
   },
   "outputs": [],
   "source": [
    "import pandas as pd\n",
    "\n",
    "import metricio"
   ]
  },
  {
   "cell_type": "code",
   "execution_count": 107,
   "outputs": [],
   "source": [
    "import clusterizations\n",
    "\n",
    "# meta, data = metricio.read_metrics('data.txt')\n",
    "# normalized_data = clusterizations.normalize_data([[float(val) for val in value] for value in data.values()])"
   ],
   "metadata": {
    "collapsed": false,
    "pycharm": {
     "name": "#%%\n",
     "is_executing": false
    }
   }
  },
  {
   "cell_type": "code",
   "execution_count": 108,
   "outputs": [],
   "source": [
    "# data_dict = {key: [features[meta.index(key)] for features in normalized_data] for key in meta}\n",
    "# my_data = pd.DataFrame(data_dict)\n",
    "# keys = data.keys()\n",
    "# my_data = my_data.rename(dict(zip(range(len(keys)), keys)), axis=0)\n",
    "# "
   ],
   "metadata": {
    "collapsed": false,
    "pycharm": {
     "name": "#%%\n",
     "is_executing": false
    }
   }
  },
  {
   "cell_type": "code",
   "execution_count": 109,
   "outputs": [],
   "source": [
    "# my_data.to_csv('data_copy.csv')"
   ],
   "metadata": {
    "collapsed": false,
    "pycharm": {
     "name": "#%%\n",
     "is_executing": false
    }
   }
  },
  {
   "cell_type": "code",
   "execution_count": 110,
   "outputs": [],
   "source": [
    "%matplotlib inline\n",
    "import matplotlib.pyplot as plt\n",
    "import seaborn as sns\n",
    "import numpy as np"
   ],
   "metadata": {
    "collapsed": false,
    "pycharm": {
     "name": "#%%\n",
     "is_executing": false
    }
   }
  },
  {
   "cell_type": "code",
   "execution_count": 111,
   "outputs": [
    {
     "data": {
      "text/plain": "avgwordsen    0.492741\navgchrword    0.838525\navgsylword    0.809817\nnounperc      0.372243\nverbperc      0.669392\npronperc      0.581360\nadjperc       0.601255\nconjperc      0.704759\nentropy       0.871445\nsurprisal     0.665767\ndtype: float64"
     },
     "metadata": {},
     "output_type": "execute_result",
     "execution_count": 111
    }
   ],
   "source": [
    "data = pd.read_csv('data_copy.csv')\n",
    "means = data.mean()\n",
    "means"
   ],
   "metadata": {
    "collapsed": false,
    "pycharm": {
     "name": "#%%\n",
     "is_executing": false
    }
   }
  },
  {
   "cell_type": "code",
   "execution_count": 112,
   "outputs": [],
   "source": [
    "import joblib\n",
    "\n",
    "kmean = joblib.load('models/KMeans n_clusters=91.pkl')\n",
    "affinity = joblib.load('models/Affinity Propagation preference=-0.1.pkl')\n",
    "hierarchical = joblib.load('models/Agglomerative n_clusters=91 affinity=euclidean linkage=ward.pkl')\n",
    "data['cluster'] = affinity.fit_predict(data[['avgwordsen','avgchrword','avgsylword',\n",
    "                                      'nounperc','verbperc','pronperc',\n",
    "                                      'adjperc','conjperc','entropy','surprisal']])"
   ],
   "metadata": {
    "collapsed": false,
    "pycharm": {
     "name": "#%%\n",
     "is_executing": false
    }
   }
  },
  {
   "cell_type": "code",
   "execution_count": 113,
   "outputs": [
    {
     "data": {
      "text/plain": "         avgwordsen  avgchrword  avgsylword  nounperc  verbperc  pronperc  \\\ncluster                                                                     \n0          0.399855    0.733992    0.720889  0.374500  1.000000  0.526228   \n1          0.439708    0.755792    0.719699  0.341074  0.777133  0.647117   \n2          0.462600    0.779636    0.756770  0.326192  0.733529  0.829632   \n3          0.563667    0.828920    0.804358  0.372368  0.665814  0.576223   \n4          0.490292    0.832865    0.800253  0.406967  0.692687  0.505921   \n\n          adjperc  conjperc   entropy  surprisal  \ncluster                                           \n0        0.331282  0.763727  0.662131   0.338963  \n1        0.343196  0.857764  0.815616   0.672200  \n2        0.459540  0.743952  0.838144   0.759830  \n3        0.581983  0.724258  0.890587   0.767695  \n4        0.533737  0.708982  0.885062   0.677092  ",
      "text/html": "<div>\n<style scoped>\n    .dataframe tbody tr th:only-of-type {\n        vertical-align: middle;\n    }\n\n    .dataframe tbody tr th {\n        vertical-align: top;\n    }\n\n    .dataframe thead th {\n        text-align: right;\n    }\n</style>\n<table border=\"1\" class=\"dataframe\">\n  <thead>\n    <tr style=\"text-align: right;\">\n      <th></th>\n      <th>avgwordsen</th>\n      <th>avgchrword</th>\n      <th>avgsylword</th>\n      <th>nounperc</th>\n      <th>verbperc</th>\n      <th>pronperc</th>\n      <th>adjperc</th>\n      <th>conjperc</th>\n      <th>entropy</th>\n      <th>surprisal</th>\n    </tr>\n    <tr>\n      <th>cluster</th>\n      <th></th>\n      <th></th>\n      <th></th>\n      <th></th>\n      <th></th>\n      <th></th>\n      <th></th>\n      <th></th>\n      <th></th>\n      <th></th>\n    </tr>\n  </thead>\n  <tbody>\n    <tr>\n      <td>0</td>\n      <td>0.399855</td>\n      <td>0.733992</td>\n      <td>0.720889</td>\n      <td>0.374500</td>\n      <td>1.000000</td>\n      <td>0.526228</td>\n      <td>0.331282</td>\n      <td>0.763727</td>\n      <td>0.662131</td>\n      <td>0.338963</td>\n    </tr>\n    <tr>\n      <td>1</td>\n      <td>0.439708</td>\n      <td>0.755792</td>\n      <td>0.719699</td>\n      <td>0.341074</td>\n      <td>0.777133</td>\n      <td>0.647117</td>\n      <td>0.343196</td>\n      <td>0.857764</td>\n      <td>0.815616</td>\n      <td>0.672200</td>\n    </tr>\n    <tr>\n      <td>2</td>\n      <td>0.462600</td>\n      <td>0.779636</td>\n      <td>0.756770</td>\n      <td>0.326192</td>\n      <td>0.733529</td>\n      <td>0.829632</td>\n      <td>0.459540</td>\n      <td>0.743952</td>\n      <td>0.838144</td>\n      <td>0.759830</td>\n    </tr>\n    <tr>\n      <td>3</td>\n      <td>0.563667</td>\n      <td>0.828920</td>\n      <td>0.804358</td>\n      <td>0.372368</td>\n      <td>0.665814</td>\n      <td>0.576223</td>\n      <td>0.581983</td>\n      <td>0.724258</td>\n      <td>0.890587</td>\n      <td>0.767695</td>\n    </tr>\n    <tr>\n      <td>4</td>\n      <td>0.490292</td>\n      <td>0.832865</td>\n      <td>0.800253</td>\n      <td>0.406967</td>\n      <td>0.692687</td>\n      <td>0.505921</td>\n      <td>0.533737</td>\n      <td>0.708982</td>\n      <td>0.885062</td>\n      <td>0.677092</td>\n    </tr>\n  </tbody>\n</table>\n</div>"
     },
     "metadata": {},
     "output_type": "execute_result",
     "execution_count": 113
    }
   ],
   "source": [
    "grouped = data.groupby('cluster').mean()\n",
    "grouped.head()"
   ],
   "metadata": {
    "collapsed": false,
    "pycharm": {
     "name": "#%%\n",
     "is_executing": false
    }
   }
  },
  {
   "cell_type": "code",
   "execution_count": 114,
   "outputs": [
    {
     "data": {
      "text/plain": "         avgwordsen  avgchrword  avgsylword  nounperc  verbperc  pronperc  \\\ncluster                                                                     \n5          0.040988    0.012134    0.006579  0.015209  0.026853  0.032341   \n6          0.156191    0.013955    0.014621  0.041204  0.060049  0.142200   \n9          0.220930    0.017517    0.011677  0.001884  0.070706  0.056821   \n20         0.236203    0.006173    0.008807  0.027995  0.091958  0.106195   \n30         0.003608    0.035076    0.030738  0.049595  0.040033  0.156731   \n38         0.061969    0.048362    0.041156  0.075869  0.044033  0.258726   \n44         0.032928    0.019658    0.020763  0.041487  0.033331  0.111074   \n45         0.133783    0.002652    0.004287  0.017914  0.038120  0.015893   \n49         0.050073    0.010843    0.014156  0.001517  0.035139  0.031357   \n56         0.054743    0.030925    0.027045  0.026273  0.010316  0.068813   \n59         0.081195    0.005543    0.000696  0.009659  0.015450  0.034219   \n\n          adjperc  conjperc   entropy  surprisal  \ncluster                                           \n5        0.037565  0.036628  0.027981   0.166274  \n6        0.080110  0.007345  0.043780   0.096620  \n9        0.016839  0.135528  0.051668   0.204002  \n20       0.097246  0.053135  0.064868   0.228154  \n30       0.109928  0.065716  0.073767   0.023934  \n38       0.128432  0.040667  0.093517   0.178356  \n44       0.037037  0.023416  0.071090   0.152801  \n45       0.017939  0.081800  0.021221   0.018383  \n49       0.031565  0.021395  0.034931   0.161370  \n56       0.068738  0.085270  0.064886   0.067976  \n59       0.015107  0.051013  0.051796   0.116140  ",
      "text/html": "<div>\n<style scoped>\n    .dataframe tbody tr th:only-of-type {\n        vertical-align: middle;\n    }\n\n    .dataframe tbody tr th {\n        vertical-align: top;\n    }\n\n    .dataframe thead th {\n        text-align: right;\n    }\n</style>\n<table border=\"1\" class=\"dataframe\">\n  <thead>\n    <tr style=\"text-align: right;\">\n      <th></th>\n      <th>avgwordsen</th>\n      <th>avgchrword</th>\n      <th>avgsylword</th>\n      <th>nounperc</th>\n      <th>verbperc</th>\n      <th>pronperc</th>\n      <th>adjperc</th>\n      <th>conjperc</th>\n      <th>entropy</th>\n      <th>surprisal</th>\n    </tr>\n    <tr>\n      <th>cluster</th>\n      <th></th>\n      <th></th>\n      <th></th>\n      <th></th>\n      <th></th>\n      <th></th>\n      <th></th>\n      <th></th>\n      <th></th>\n      <th></th>\n    </tr>\n  </thead>\n  <tbody>\n    <tr>\n      <td>5</td>\n      <td>0.040988</td>\n      <td>0.012134</td>\n      <td>0.006579</td>\n      <td>0.015209</td>\n      <td>0.026853</td>\n      <td>0.032341</td>\n      <td>0.037565</td>\n      <td>0.036628</td>\n      <td>0.027981</td>\n      <td>0.166274</td>\n    </tr>\n    <tr>\n      <td>6</td>\n      <td>0.156191</td>\n      <td>0.013955</td>\n      <td>0.014621</td>\n      <td>0.041204</td>\n      <td>0.060049</td>\n      <td>0.142200</td>\n      <td>0.080110</td>\n      <td>0.007345</td>\n      <td>0.043780</td>\n      <td>0.096620</td>\n    </tr>\n    <tr>\n      <td>9</td>\n      <td>0.220930</td>\n      <td>0.017517</td>\n      <td>0.011677</td>\n      <td>0.001884</td>\n      <td>0.070706</td>\n      <td>0.056821</td>\n      <td>0.016839</td>\n      <td>0.135528</td>\n      <td>0.051668</td>\n      <td>0.204002</td>\n    </tr>\n    <tr>\n      <td>20</td>\n      <td>0.236203</td>\n      <td>0.006173</td>\n      <td>0.008807</td>\n      <td>0.027995</td>\n      <td>0.091958</td>\n      <td>0.106195</td>\n      <td>0.097246</td>\n      <td>0.053135</td>\n      <td>0.064868</td>\n      <td>0.228154</td>\n    </tr>\n    <tr>\n      <td>30</td>\n      <td>0.003608</td>\n      <td>0.035076</td>\n      <td>0.030738</td>\n      <td>0.049595</td>\n      <td>0.040033</td>\n      <td>0.156731</td>\n      <td>0.109928</td>\n      <td>0.065716</td>\n      <td>0.073767</td>\n      <td>0.023934</td>\n    </tr>\n    <tr>\n      <td>38</td>\n      <td>0.061969</td>\n      <td>0.048362</td>\n      <td>0.041156</td>\n      <td>0.075869</td>\n      <td>0.044033</td>\n      <td>0.258726</td>\n      <td>0.128432</td>\n      <td>0.040667</td>\n      <td>0.093517</td>\n      <td>0.178356</td>\n    </tr>\n    <tr>\n      <td>44</td>\n      <td>0.032928</td>\n      <td>0.019658</td>\n      <td>0.020763</td>\n      <td>0.041487</td>\n      <td>0.033331</td>\n      <td>0.111074</td>\n      <td>0.037037</td>\n      <td>0.023416</td>\n      <td>0.071090</td>\n      <td>0.152801</td>\n    </tr>\n    <tr>\n      <td>45</td>\n      <td>0.133783</td>\n      <td>0.002652</td>\n      <td>0.004287</td>\n      <td>0.017914</td>\n      <td>0.038120</td>\n      <td>0.015893</td>\n      <td>0.017939</td>\n      <td>0.081800</td>\n      <td>0.021221</td>\n      <td>0.018383</td>\n    </tr>\n    <tr>\n      <td>49</td>\n      <td>0.050073</td>\n      <td>0.010843</td>\n      <td>0.014156</td>\n      <td>0.001517</td>\n      <td>0.035139</td>\n      <td>0.031357</td>\n      <td>0.031565</td>\n      <td>0.021395</td>\n      <td>0.034931</td>\n      <td>0.161370</td>\n    </tr>\n    <tr>\n      <td>56</td>\n      <td>0.054743</td>\n      <td>0.030925</td>\n      <td>0.027045</td>\n      <td>0.026273</td>\n      <td>0.010316</td>\n      <td>0.068813</td>\n      <td>0.068738</td>\n      <td>0.085270</td>\n      <td>0.064886</td>\n      <td>0.067976</td>\n    </tr>\n    <tr>\n      <td>59</td>\n      <td>0.081195</td>\n      <td>0.005543</td>\n      <td>0.000696</td>\n      <td>0.009659</td>\n      <td>0.015450</td>\n      <td>0.034219</td>\n      <td>0.015107</td>\n      <td>0.051013</td>\n      <td>0.051796</td>\n      <td>0.116140</td>\n    </tr>\n  </tbody>\n</table>\n</div>"
     },
     "metadata": {},
     "output_type": "execute_result",
     "execution_count": 114
    }
   ],
   "source": [
    "kmean_clusters = [5, 7, 15, 21, 26, 33, 44, 45, 47, 50, 57, 58, 84, 87]\n",
    "hierarhy_clusters = [1, 2, 4, 27, 29, 31, 43, 60, 78]\n",
    "affinity_cluster = [5, 6, 9, 20, 30, 38, 44, 45, 49, 56, 59]\n",
    "\n",
    "np.abs(grouped.iloc[affinity_cluster] - means)\n",
    "# np.abs(grouped.drop(hierarhy_clusters) - means).head()"
   ],
   "metadata": {
    "collapsed": false,
    "pycharm": {
     "name": "#%%\n",
     "is_executing": false
    }
   }
  },
  {
   "cell_type": "code",
   "execution_count": 115,
   "outputs": [
    {
     "data": {
      "text/plain": "cluster\n5     0.166274\n6     0.156191\n9     0.220930\n20    0.236203\n30    0.156731\n38    0.258726\n44    0.152801\n45    0.133783\n49    0.161370\n56    0.085270\n59    0.116140\ndtype: float64"
     },
     "metadata": {},
     "output_type": "execute_result",
     "execution_count": 115
    }
   ],
   "source": [
    "np.abs(grouped.iloc[affinity_cluster] - means).max(axis=1)\n",
    "# np.abs(grouped.drop(hierarhy_clusters) - means).max(axis=1).head()\n"
   ],
   "metadata": {
    "collapsed": false,
    "pycharm": {
     "name": "#%%\n",
     "is_executing": false
    }
   }
  }
 ],
 "metadata": {
  "kernelspec": {
   "name": "python3",
   "language": "python",
   "display_name": "Python 3"
  },
  "language_info": {
   "codemirror_mode": {
    "name": "ipython",
    "version": 2
   },
   "file_extension": ".py",
   "mimetype": "text/x-python",
   "name": "python",
   "nbconvert_exporter": "python",
   "pygments_lexer": "ipython2",
   "version": "2.7.6"
  },
  "pycharm": {
   "stem_cell": {
    "cell_type": "raw",
    "source": [],
    "metadata": {
     "collapsed": false
    }
   }
  }
 },
 "nbformat": 4,
 "nbformat_minor": 0
}